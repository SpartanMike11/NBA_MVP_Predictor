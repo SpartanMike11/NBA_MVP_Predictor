{
 "cells": [
  {
   "cell_type": "code",
   "execution_count": 1,
   "metadata": {
    "scrolled": false
   },
   "outputs": [
    {
     "name": "stderr",
     "output_type": "stream",
     "text": [
      "C:\\Users\\monta\\Anaconda3\\lib\\site-packages\\pandas\\compat\\_optional.py:138: UserWarning: Pandas requires version '2.7.0' or newer of 'numexpr' (version '2.6.9' currently installed).\n",
      "  warnings.warn(msg, UserWarning)\n"
     ]
    }
   ],
   "source": [
    "#Importing useful libraries\n",
    "import numpy as np\n",
    "import pandas as pd\n",
    "import seaborn as sns\n",
    "import sklearn\n",
    "from sklearn import linear_model\n",
    "from sklearn import preprocessing\n",
    "from sklearn.linear_model import LogisticRegression\n",
    "from sklearn.model_selection import train_test_split\n",
    "from sklearn import metrics\n",
    "from sklearn.metrics import accuracy_score\n",
    "from sklearn.metrics import confusion_matrix\n",
    "from sklearn.metrics import classification_report\n",
    "import statsmodels.api as sm\n",
    "import statsmodels.formula.api as smf\n",
    "from sklearn.metrics import roc_curve, roc_auc_score\n",
    "import matplotlib.pyplot as plt\n",
    "from matplotlib.pyplot import figure\n",
    "%matplotlib inline"
   ]
  },
  {
   "cell_type": "code",
   "execution_count": 2,
   "metadata": {},
   "outputs": [
    {
     "data": {
      "text/plain": [
       "'1.3.5'"
      ]
     },
     "execution_count": 2,
     "metadata": {},
     "output_type": "execute_result"
    }
   ],
   "source": [
    "#!pip install pandas\n",
    "pd.__version__"
   ]
  },
  {
   "cell_type": "code",
   "execution_count": 3,
   "metadata": {},
   "outputs": [],
   "source": [
    "#Uploading data set into a data frame\n",
    "df = pd.read_csv(\"player_mvp_stats.csv\")"
   ]
  },
  {
   "cell_type": "code",
   "execution_count": 4,
   "metadata": {
    "scrolled": true
   },
   "outputs": [],
   "source": [
    "#Insert MVP column with default value of 'No'\n",
    "df.insert(0,\"MVP\",\"No\",)"
   ]
  },
  {
   "cell_type": "code",
   "execution_count": 5,
   "metadata": {},
   "outputs": [
    {
     "data": {
      "text/plain": [
       "Year\n",
       "1991    0.928\n",
       "1992    0.938\n",
       "1993    0.852\n",
       "1994    0.880\n",
       "1995    0.858\n",
       "1996    0.986\n",
       "1997    0.857\n",
       "1998    0.934\n",
       "1999    0.701\n",
       "2000    0.998\n",
       "2001    0.904\n",
       "2002    0.757\n",
       "2003    0.808\n",
       "2004    0.991\n",
       "2005    0.839\n",
       "2006    0.739\n",
       "2007    0.882\n",
       "2008    0.873\n",
       "2009    0.969\n",
       "2010    0.980\n",
       "2011    0.977\n",
       "2012    0.888\n",
       "2013    0.998\n",
       "2014    0.986\n",
       "2015    0.922\n",
       "2016    1.000\n",
       "2017    0.879\n",
       "2018    0.955\n",
       "2019    0.932\n",
       "2020    0.952\n",
       "2021    0.961\n",
       "Name: Share, dtype: float64"
      ]
     },
     "execution_count": 5,
     "metadata": {},
     "output_type": "execute_result"
    }
   ],
   "source": [
    "#Isolate the MVP award winners from each year\n",
    "df.groupby('Year')['Share'].max()"
   ]
  },
  {
   "cell_type": "code",
   "execution_count": 6,
   "metadata": {
    "scrolled": false
   },
   "outputs": [
    {
     "data": {
      "text/plain": [
       "count     14092\n",
       "unique        2\n",
       "top          No\n",
       "freq      14061\n",
       "Name: MVP, dtype: object"
      ]
     },
     "execution_count": 6,
     "metadata": {},
     "output_type": "execute_result"
    }
   ],
   "source": [
    "#Changing values of MVP column for each winner\n",
    "df['MVP'] = np.where((df['Share'] == 0.928 ) & (df['Year'] == 1991),'Yes',df['MVP'])\n",
    "df['MVP'] = np.where((df['Share'] == 0.938 ) & (df['Year'] == 1992),'Yes',df['MVP'])\n",
    "df['MVP'] = np.where((df['Share'] == 0.852 ) & (df['Year'] == 1993),'Yes',df['MVP'])\n",
    "df['MVP'] = np.where((df['Share'] == 0.880 ) & (df['Year'] == 1994),'Yes',df['MVP'])\n",
    "df['MVP'] = np.where((df['Share'] == 0.858 ) & (df['Year'] == 1995),'Yes',df['MVP'])\n",
    "df['MVP'] = np.where((df['Share'] == 0.986 ) & (df['Year'] == 1996),'Yes',df['MVP'])\n",
    "df['MVP'] = np.where((df['Share'] == 0.857 ) & (df['Year'] == 1997),'Yes',df['MVP'])\n",
    "df['MVP'] = np.where((df['Share'] == 0.934 ) & (df['Year'] == 1998),'Yes',df['MVP'])\n",
    "df['MVP'] = np.where((df['Share'] == 0.701 ) & (df['Year'] == 1999),'Yes',df['MVP'])\n",
    "df['MVP'] = np.where((df['Share'] == 0.998 ) & (df['Year'] == 2000),'Yes',df['MVP'])\n",
    "df['MVP'] = np.where((df['Share'] == 0.904 ) & (df['Year'] == 2001),'Yes',df['MVP'])\n",
    "df['MVP'] = np.where((df['Share'] == 0.757 ) & (df['Year'] == 2002),'Yes',df['MVP'])\n",
    "df['MVP'] = np.where((df['Share'] == 0.808 ) & (df['Year'] == 2003),'Yes',df['MVP'])\n",
    "df['MVP'] = np.where((df['Share'] == 0.991 ) & (df['Year'] == 2004),'Yes',df['MVP'])\n",
    "df['MVP'] = np.where((df['Share'] == 0.839 ) & (df['Year'] == 2005),'Yes',df['MVP'])\n",
    "df['MVP'] = np.where((df['Share'] == 0.739 ) & (df['Year'] == 2006),'Yes',df['MVP'])\n",
    "df['MVP'] = np.where((df['Share'] == 0.882 ) & (df['Year'] == 2007),'Yes',df['MVP'])\n",
    "df['MVP'] = np.where((df['Share'] == 0.873 ) & (df['Year'] == 2008),'Yes',df['MVP'])\n",
    "df['MVP'] = np.where((df['Share'] == 0.969 ) & (df['Year'] == 2009),'Yes',df['MVP'])\n",
    "df['MVP'] = np.where((df['Share'] == 0.980 ) & (df['Year'] == 2010),'Yes',df['MVP'])\n",
    "df['MVP'] = np.where((df['Share'] == 0.977 ) & (df['Year'] == 2011),'Yes',df['MVP'])\n",
    "df['MVP'] = np.where((df['Share'] == 0.888 ) & (df['Year'] == 2012),'Yes',df['MVP'])\n",
    "df['MVP'] = np.where((df['Share'] == 0.998 ) & (df['Year'] == 2013),'Yes',df['MVP'])\n",
    "df['MVP'] = np.where((df['Share'] == 0.986 ) & (df['Year'] == 2014),'Yes',df['MVP'])\n",
    "df['MVP'] = np.where((df['Share'] == 0.922 ) & (df['Year'] == 2015),'Yes',df['MVP'])\n",
    "df['MVP'] = np.where((df['Share'] == 1.000 ) & (df['Year'] == 2016),'Yes',df['MVP'])\n",
    "df['MVP'] = np.where((df['Share'] == 0.879 ) & (df['Year'] == 2017),'Yes',df['MVP'])\n",
    "df['MVP'] = np.where((df['Share'] == 0.955 ) & (df['Year'] == 2018),'Yes',df['MVP'])\n",
    "df['MVP'] = np.where((df['Share'] == 0.932 ) & (df['Year'] == 2019),'Yes',df['MVP'])\n",
    "df['MVP'] = np.where((df['Share'] == 0.952 ) & (df['Year'] == 2020),'Yes',df['MVP'])\n",
    "df['MVP'] = np.where((df['Share'] == 0.961 ) & (df['Year'] == 2021),'Yes',df['MVP'])\n",
    "\n",
    "df['MVP'].describe()"
   ]
  },
  {
   "cell_type": "code",
   "execution_count": 7,
   "metadata": {},
   "outputs": [],
   "source": [
    "df = df.drop(columns=['Player', 'Pos', 'Age', 'Tm', 'G', 'GS', 'MP', 'FG', 'FGA', '3P', '3PA', '3P%', '2P', '2PA', '2P%', \n",
    "                      'eFG%','FT', 'FTA', 'FT%', 'ORB', 'DRB', 'TOV', 'Year', 'Pts Won', 'Pts Max', 'Share', 'Team', 'W',\n",
    "                      'L', 'GB','PS/G', 'PA/G', 'SRS', 'PF'])"
   ]
  },
  {
   "cell_type": "code",
   "execution_count": 8,
   "metadata": {
    "scrolled": true
   },
   "outputs": [
    {
     "name": "stdout",
     "output_type": "stream",
     "text": [
      "<class 'pandas.core.frame.DataFrame'>\n",
      "RangeIndex: 14092 entries, 0 to 14091\n",
      "Data columns (total 8 columns):\n",
      " #   Column  Non-Null Count  Dtype  \n",
      "---  ------  --------------  -----  \n",
      " 0   MVP     14092 non-null  object \n",
      " 1   FG%     14042 non-null  float64\n",
      " 2   TRB     14092 non-null  float64\n",
      " 3   AST     14092 non-null  float64\n",
      " 4   STL     14092 non-null  float64\n",
      " 5   BLK     14092 non-null  float64\n",
      " 6   PTS     14092 non-null  float64\n",
      " 7   W/L%    14092 non-null  float64\n",
      "dtypes: float64(7), object(1)\n",
      "memory usage: 880.9+ KB\n"
     ]
    }
   ],
   "source": [
    "df.info()"
   ]
  },
  {
   "cell_type": "code",
   "execution_count": 9,
   "metadata": {},
   "outputs": [
    {
     "data": {
      "text/plain": [
       "MVP      0\n",
       "FG%     50\n",
       "TRB      0\n",
       "AST      0\n",
       "STL      0\n",
       "BLK      0\n",
       "PTS      0\n",
       "W/L%     0\n",
       "dtype: int64"
      ]
     },
     "execution_count": 9,
     "metadata": {},
     "output_type": "execute_result"
    }
   ],
   "source": [
    "#Check columns for missing values\n",
    "df.isnull().sum()"
   ]
  },
  {
   "cell_type": "code",
   "execution_count": 10,
   "metadata": {},
   "outputs": [
    {
     "data": {
      "text/plain": [
       "MVP     0\n",
       "FG%     0\n",
       "TRB     0\n",
       "AST     0\n",
       "STL     0\n",
       "BLK     0\n",
       "PTS     0\n",
       "W/L%    0\n",
       "dtype: int64"
      ]
     },
     "execution_count": 10,
     "metadata": {},
     "output_type": "execute_result"
    }
   ],
   "source": [
    "#Drops columns with missing values\n",
    "df = df.dropna()\n",
    "df.isnull().sum()"
   ]
  },
  {
   "cell_type": "code",
   "execution_count": 11,
   "metadata": {
    "scrolled": true
   },
   "outputs": [
    {
     "data": {
      "text/html": [
       "<div>\n",
       "<style scoped>\n",
       "    .dataframe tbody tr th:only-of-type {\n",
       "        vertical-align: middle;\n",
       "    }\n",
       "\n",
       "    .dataframe tbody tr th {\n",
       "        vertical-align: top;\n",
       "    }\n",
       "\n",
       "    .dataframe thead th {\n",
       "        text-align: right;\n",
       "    }\n",
       "</style>\n",
       "<table border=\"1\" class=\"dataframe\">\n",
       "  <thead>\n",
       "    <tr style=\"text-align: right;\">\n",
       "      <th></th>\n",
       "      <th>FG%</th>\n",
       "      <th>TRB</th>\n",
       "      <th>AST</th>\n",
       "      <th>STL</th>\n",
       "      <th>BLK</th>\n",
       "      <th>PTS</th>\n",
       "      <th>W/L%</th>\n",
       "    </tr>\n",
       "  </thead>\n",
       "  <tbody>\n",
       "    <tr>\n",
       "      <th>count</th>\n",
       "      <td>14042.000000</td>\n",
       "      <td>14042.000000</td>\n",
       "      <td>14042.000000</td>\n",
       "      <td>14042.000000</td>\n",
       "      <td>14042.000000</td>\n",
       "      <td>14042.000000</td>\n",
       "      <td>14042.000000</td>\n",
       "    </tr>\n",
       "    <tr>\n",
       "      <th>mean</th>\n",
       "      <td>0.438541</td>\n",
       "      <td>3.588207</td>\n",
       "      <td>1.854650</td>\n",
       "      <td>0.659529</td>\n",
       "      <td>0.418843</td>\n",
       "      <td>8.283457</td>\n",
       "      <td>0.496726</td>\n",
       "    </tr>\n",
       "    <tr>\n",
       "      <th>std</th>\n",
       "      <td>0.092643</td>\n",
       "      <td>2.522992</td>\n",
       "      <td>1.832496</td>\n",
       "      <td>0.459153</td>\n",
       "      <td>0.491823</td>\n",
       "      <td>5.980369</td>\n",
       "      <td>0.155604</td>\n",
       "    </tr>\n",
       "    <tr>\n",
       "      <th>min</th>\n",
       "      <td>0.000000</td>\n",
       "      <td>0.000000</td>\n",
       "      <td>0.000000</td>\n",
       "      <td>0.000000</td>\n",
       "      <td>0.000000</td>\n",
       "      <td>0.000000</td>\n",
       "      <td>0.106000</td>\n",
       "    </tr>\n",
       "    <tr>\n",
       "      <th>25%</th>\n",
       "      <td>0.401000</td>\n",
       "      <td>1.800000</td>\n",
       "      <td>0.600000</td>\n",
       "      <td>0.300000</td>\n",
       "      <td>0.100000</td>\n",
       "      <td>3.600000</td>\n",
       "      <td>0.378000</td>\n",
       "    </tr>\n",
       "    <tr>\n",
       "      <th>50%</th>\n",
       "      <td>0.440000</td>\n",
       "      <td>3.000000</td>\n",
       "      <td>1.300000</td>\n",
       "      <td>0.600000</td>\n",
       "      <td>0.300000</td>\n",
       "      <td>6.800000</td>\n",
       "      <td>0.512000</td>\n",
       "    </tr>\n",
       "    <tr>\n",
       "      <th>75%</th>\n",
       "      <td>0.482000</td>\n",
       "      <td>4.800000</td>\n",
       "      <td>2.500000</td>\n",
       "      <td>0.900000</td>\n",
       "      <td>0.500000</td>\n",
       "      <td>11.700000</td>\n",
       "      <td>0.610000</td>\n",
       "    </tr>\n",
       "    <tr>\n",
       "      <th>max</th>\n",
       "      <td>1.000000</td>\n",
       "      <td>18.700000</td>\n",
       "      <td>14.200000</td>\n",
       "      <td>3.000000</td>\n",
       "      <td>4.500000</td>\n",
       "      <td>36.100000</td>\n",
       "      <td>0.890000</td>\n",
       "    </tr>\n",
       "  </tbody>\n",
       "</table>\n",
       "</div>"
      ],
      "text/plain": [
       "                FG%           TRB           AST           STL           BLK  \\\n",
       "count  14042.000000  14042.000000  14042.000000  14042.000000  14042.000000   \n",
       "mean       0.438541      3.588207      1.854650      0.659529      0.418843   \n",
       "std        0.092643      2.522992      1.832496      0.459153      0.491823   \n",
       "min        0.000000      0.000000      0.000000      0.000000      0.000000   \n",
       "25%        0.401000      1.800000      0.600000      0.300000      0.100000   \n",
       "50%        0.440000      3.000000      1.300000      0.600000      0.300000   \n",
       "75%        0.482000      4.800000      2.500000      0.900000      0.500000   \n",
       "max        1.000000     18.700000     14.200000      3.000000      4.500000   \n",
       "\n",
       "                PTS          W/L%  \n",
       "count  14042.000000  14042.000000  \n",
       "mean       8.283457      0.496726  \n",
       "std        5.980369      0.155604  \n",
       "min        0.000000      0.106000  \n",
       "25%        3.600000      0.378000  \n",
       "50%        6.800000      0.512000  \n",
       "75%       11.700000      0.610000  \n",
       "max       36.100000      0.890000  "
      ]
     },
     "execution_count": 11,
     "metadata": {},
     "output_type": "execute_result"
    }
   ],
   "source": [
    "#Summary statistics for each continuous variable\n",
    "df.describe()"
   ]
  },
  {
   "cell_type": "code",
   "execution_count": 12,
   "metadata": {},
   "outputs": [
    {
     "data": {
      "text/plain": [
       "<matplotlib.axes._subplots.AxesSubplot at 0x1cf7317e1d0>"
      ]
     },
     "execution_count": 12,
     "metadata": {},
     "output_type": "execute_result"
    },
    {
     "data": {
      "image/png": "[encoded data removed]",
      "text/plain": [
       "<Figure size 720x720 with 1 Axes>"
      ]
     },
     "metadata": {},
     "output_type": "display_data"
    }
   ],
   "source": [
    "sns.set(rc = {'figure.figsize':(10,10)})\n",
    "sns.boxplot(x=df['PTS'], orient=\"v\", palette=\"Set2\")"
   ]
  },
  {
   "cell_type": "code",
   "execution_count": 13,
   "metadata": {},
   "outputs": [
    {
     "data": {
      "text/plain": [
       "<matplotlib.axes._subplots.AxesSubplot at 0x1cf73470588>"
      ]
     },
     "execution_count": 13,
     "metadata": {},
     "output_type": "execute_result"
    },
    {
     "data": {
      "image/png": "[encoded data removed]",
      "text/plain": [
       "<Figure size 720x720 with 1 Axes>"
      ]
     },
     "metadata": {},
     "output_type": "display_data"
    }
   ],
   "source": [
    "sns.boxplot(x=df[\"AST\"], orient=\"v\", color='red')"
   ]
  },
  {
   "cell_type": "code",
   "execution_count": 14,
   "metadata": {
    "scrolled": false
   },
   "outputs": [
    {
     "data": {
      "text/plain": [
       "<matplotlib.axes._subplots.AxesSubplot at 0x1cf737b18d0>"
      ]
     },
     "execution_count": 14,
     "metadata": {},
     "output_type": "execute_result"
    },
    {
     "data": {
      "image/png": "[encoded data removed]",
      "text/plain": [
       "<Figure size 720x720 with 1 Axes>"
      ]
     },
     "metadata": {},
     "output_type": "display_data"
    }
   ],
   "source": [
    "sns.boxplot(x=df['TRB'], orient=\"v\")"
   ]
  },
  {
   "cell_type": "code",
   "execution_count": 15,
   "metadata": {},
   "outputs": [
    {
     "data": {
      "text/plain": [
       "<matplotlib.axes._subplots.AxesSubplot at 0x1cf736f2048>"
      ]
     },
     "execution_count": 15,
     "metadata": {},
     "output_type": "execute_result"
    },
    {
     "data": {
      "image/png": "[encoded data removed]",
      "text/plain": [
       "<Figure size 720x720 with 1 Axes>"
      ]
     },
     "metadata": {},
     "output_type": "display_data"
    }
   ],
   "source": [
    "sns.boxplot(x=df['BLK'], orient=\"v\",color='yellow')"
   ]
  },
  {
   "cell_type": "code",
   "execution_count": 16,
   "metadata": {},
   "outputs": [
    {
     "data": {
      "text/plain": [
       "<matplotlib.axes._subplots.AxesSubplot at 0x1cf73737748>"
      ]
     },
     "execution_count": 16,
     "metadata": {},
     "output_type": "execute_result"
    },
    {
     "data": {
      "image/png": "[encoded data removed]",
      "text/plain": [
       "<Figure size 720x720 with 1 Axes>"
      ]
     },
     "metadata": {},
     "output_type": "display_data"
    }
   ],
   "source": [
    "sns.boxplot(x=df['STL'], orient=\"v\", color='blue')"
   ]
  },
  {
   "cell_type": "code",
   "execution_count": 17,
   "metadata": {},
   "outputs": [
    {
     "data": {
      "text/plain": [
       "<matplotlib.axes._subplots.AxesSubplot at 0x1cf73972898>"
      ]
     },
     "execution_count": 17,
     "metadata": {},
     "output_type": "execute_result"
    },
    {
     "data": {
      "image/png": "[encoded data removed]",
      "text/plain": [
       "<Figure size 720x720 with 1 Axes>"
      ]
     },
     "metadata": {},
     "output_type": "display_data"
    }
   ],
   "source": [
    "sns.boxplot(x=df['FG%'], orient=\"v\", color='purple')"
   ]
  },
  {
   "cell_type": "code",
   "execution_count": 18,
   "metadata": {},
   "outputs": [
    {
     "data": {
      "text/plain": [
       "<matplotlib.axes._subplots.AxesSubplot at 0x1cf73e065f8>"
      ]
     },
     "execution_count": 18,
     "metadata": {},
     "output_type": "execute_result"
    },
    {
     "data": {
      "image/png": "[encoded data removed]",
      "text/plain": [
       "<Figure size 720x720 with 1 Axes>"
      ]
     },
     "metadata": {},
     "output_type": "display_data"
    }
   ],
   "source": [
    "sns.boxplot(x=df['W/L%'], orient=\"v\", color='maroon')"
   ]
  },
  {
   "cell_type": "code",
   "execution_count": 19,
   "metadata": {
    "scrolled": false
   },
   "outputs": [
    {
     "data": {
      "text/plain": [
       "array([[<matplotlib.axes._subplots.AxesSubplot object at 0x000001CF74468748>,\n",
       "        <matplotlib.axes._subplots.AxesSubplot object at 0x000001CF7448CF60>,\n",
       "        <matplotlib.axes._subplots.AxesSubplot object at 0x000001CF744BE940>],\n",
       "       [<matplotlib.axes._subplots.AxesSubplot object at 0x000001CF744F4320>,\n",
       "        <matplotlib.axes._subplots.AxesSubplot object at 0x000001CF7451DCC0>,\n",
       "        <matplotlib.axes._subplots.AxesSubplot object at 0x000001CF745586A0>],\n",
       "       [<matplotlib.axes._subplots.AxesSubplot object at 0x000001CF7457F080>,\n",
       "        <matplotlib.axes._subplots.AxesSubplot object at 0x000001CF745A1A58>,\n",
       "        <matplotlib.axes._subplots.AxesSubplot object at 0x000001CF745A1A90>]],\n",
       "      dtype=object)"
      ]
     },
     "execution_count": 19,
     "metadata": {},
     "output_type": "execute_result"
    },
    {
     "data": {
      "image/png": "[encoded data removed]",
      "text/plain": [
       "<Figure size 1080x1080 with 9 Axes>"
      ]
     },
     "metadata": {},
     "output_type": "display_data"
    }
   ],
   "source": [
    "#Univarite graphs for continuous variables\n",
    "df.hist(figsize = (15,15))"
   ]
  },
  {
   "cell_type": "code",
   "execution_count": 20,
   "metadata": {
    "scrolled": false
   },
   "outputs": [
    {
     "data": {
      "text/plain": [
       "<seaborn.axisgrid.FacetGrid at 0x1cf74c116a0>"
      ]
     },
     "execution_count": 20,
     "metadata": {},
     "output_type": "execute_result"
    },
    {
     "data": {
      "image/png": "[encoded data removed]",
      "text/plain": [
       "<Figure size 360x360 with 1 Axes>"
      ]
     },
     "metadata": {},
     "output_type": "display_data"
    },
    {
     "data": {
      "image/png": "[encoded data removed]",
      "text/plain": [
       "<Figure size 360x360 with 1 Axes>"
      ]
     },
     "metadata": {},
     "output_type": "display_data"
    },
    {
     "data": {
      "image/png": "[encoded data removed]",
      "text/plain": [
       "<Figure size 360x360 with 1 Axes>"
      ]
     },
     "metadata": {},
     "output_type": "display_data"
    },
    {
     "data": {
      "image/png": "[encoded data removed]",
      "text/plain": [
       "<Figure size 360x360 with 1 Axes>"
      ]
     },
     "metadata": {},
     "output_type": "display_data"
    },
    {
     "data": {
      "image/png": "[encoded data removed]",
      "text/plain": [
       "<Figure size 360x360 with 1 Axes>"
      ]
     },
     "metadata": {},
     "output_type": "display_data"
    },
    {
     "data": {
      "image/png": "[encoded data removed]",
      "text/plain": [
       "<Figure size 360x360 with 1 Axes>"
      ]
     },
     "metadata": {},
     "output_type": "display_data"
    },
    {
     "data": {
      "image/png": "[encoded data removed]",
      "text/plain": [
       "<Figure size 360x360 with 1 Axes>"
      ]
     },
     "metadata": {},
     "output_type": "display_data"
    }
   ],
   "source": [
    "#Bivariate graphs for continuous variables\n",
    "sns.catplot(x=\"PTS\", y=\"MVP\", data=df, kind=\"box\")\n",
    "sns.catplot(x=\"TRB\", y=\"MVP\", data=df, kind=\"box\")\n",
    "sns.catplot(x=\"AST\", y=\"MVP\", data=df, kind=\"box\")\n",
    "sns.catplot(x=\"STL\", y=\"MVP\", data=df, kind=\"box\")\n",
    "sns.catplot(x=\"BLK\", y=\"MVP\", data=df, kind=\"box\")\n",
    "sns.catplot(x=\"FG%\", y=\"MVP\", data=df, kind=\"box\")\n",
    "sns.catplot(x=\"W/L%\", y=\"MVP\", data=df, kind=\"box\")"
   ]
  },
  {
   "cell_type": "code",
   "execution_count": 21,
   "metadata": {},
   "outputs": [
    {
     "data": {
      "text/html": [
       "<div>\n",
       "<style scoped>\n",
       "    .dataframe tbody tr th:only-of-type {\n",
       "        vertical-align: middle;\n",
       "    }\n",
       "\n",
       "    .dataframe tbody tr th {\n",
       "        vertical-align: top;\n",
       "    }\n",
       "\n",
       "    .dataframe thead th {\n",
       "        text-align: right;\n",
       "    }\n",
       "</style>\n",
       "<table border=\"1\" class=\"dataframe\">\n",
       "  <thead>\n",
       "    <tr style=\"text-align: right;\">\n",
       "      <th></th>\n",
       "      <th>Yes</th>\n",
       "    </tr>\n",
       "  </thead>\n",
       "  <tbody>\n",
       "    <tr>\n",
       "      <th>count</th>\n",
       "      <td>14042.000000</td>\n",
       "    </tr>\n",
       "    <tr>\n",
       "      <th>mean</th>\n",
       "      <td>0.002208</td>\n",
       "    </tr>\n",
       "    <tr>\n",
       "      <th>std</th>\n",
       "      <td>0.046936</td>\n",
       "    </tr>\n",
       "    <tr>\n",
       "      <th>min</th>\n",
       "      <td>0.000000</td>\n",
       "    </tr>\n",
       "    <tr>\n",
       "      <th>25%</th>\n",
       "      <td>0.000000</td>\n",
       "    </tr>\n",
       "    <tr>\n",
       "      <th>50%</th>\n",
       "      <td>0.000000</td>\n",
       "    </tr>\n",
       "    <tr>\n",
       "      <th>75%</th>\n",
       "      <td>0.000000</td>\n",
       "    </tr>\n",
       "    <tr>\n",
       "      <th>max</th>\n",
       "      <td>1.000000</td>\n",
       "    </tr>\n",
       "  </tbody>\n",
       "</table>\n",
       "</div>"
      ],
      "text/plain": [
       "                Yes\n",
       "count  14042.000000\n",
       "mean       0.002208\n",
       "std        0.046936\n",
       "min        0.000000\n",
       "25%        0.000000\n",
       "50%        0.000000\n",
       "75%        0.000000\n",
       "max        1.000000"
      ]
     },
     "execution_count": 21,
     "metadata": {},
     "output_type": "execute_result"
    }
   ],
   "source": [
    "#Turning the MVP column into a dummy variable for the regression\n",
    "y=pd.get_dummies(df[\"MVP\"], drop_first=True)\n",
    "y.describe()"
   ]
  },
  {
   "cell_type": "code",
   "execution_count": 22,
   "metadata": {},
   "outputs": [],
   "source": [
    "import warnings\n",
    "warnings.simplefilter(action='ignore')"
   ]
  },
  {
   "cell_type": "code",
   "execution_count": 23,
   "metadata": {},
   "outputs": [
    {
     "name": "stdout",
     "output_type": "stream",
     "text": [
      "Optimization terminated successfully.\n",
      "         Current function value: inf\n",
      "         Iterations 15\n"
     ]
    },
    {
     "data": {
      "text/html": [
       "<table class=\"simpletable\">\n",
       "<caption>Logit Regression Results</caption>\n",
       "<tr>\n",
       "  <th>Dep. Variable:</th>          <td>Yes</td>       <th>  No. Observations:  </th>  <td> 14042</td> \n",
       "</tr>\n",
       "<tr>\n",
       "  <th>Model:</th>                 <td>Logit</td>      <th>  Df Residuals:      </th>  <td> 14034</td> \n",
       "</tr>\n",
       "<tr>\n",
       "  <th>Method:</th>                 <td>MLE</td>       <th>  Df Model:          </th>  <td>     7</td> \n",
       "</tr>\n",
       "<tr>\n",
       "  <th>Date:</th>            <td>Fri, 24 Jun 2022</td> <th>  Pseudo R-squ.:     </th>  <td>   inf</td> \n",
       "</tr>\n",
       "<tr>\n",
       "  <th>Time:</th>                <td>12:15:25</td>     <th>  Log-Likelihood:    </th> <td>    -inf</td>\n",
       "</tr>\n",
       "<tr>\n",
       "  <th>converged:</th>             <td>True</td>       <th>  LL-Null:           </th> <td>  0.0000</td>\n",
       "</tr>\n",
       "<tr>\n",
       "  <th>Covariance Type:</th>     <td>nonrobust</td>    <th>  LLR p-value:       </th>  <td> 1.000</td> \n",
       "</tr>\n",
       "</table>\n",
       "<table class=\"simpletable\">\n",
       "<tr>\n",
       "    <td></td>       <th>coef</th>     <th>std err</th>      <th>z</th>      <th>P>|z|</th>  <th>[0.025</th>    <th>0.975]</th>  \n",
       "</tr>\n",
       "<tr>\n",
       "  <th>const</th> <td>  -39.0863</td> <td>    5.857</td> <td>   -6.673</td> <td> 0.000</td> <td>  -50.566</td> <td>  -27.607</td>\n",
       "</tr>\n",
       "<tr>\n",
       "  <th>FG%</th>   <td>    2.9147</td> <td>    7.639</td> <td>    0.382</td> <td> 0.703</td> <td>  -12.058</td> <td>   17.888</td>\n",
       "</tr>\n",
       "<tr>\n",
       "  <th>TRB</th>   <td>    0.3606</td> <td>    0.144</td> <td>    2.505</td> <td> 0.012</td> <td>    0.079</td> <td>    0.643</td>\n",
       "</tr>\n",
       "<tr>\n",
       "  <th>AST</th>   <td>    0.5715</td> <td>    0.139</td> <td>    4.124</td> <td> 0.000</td> <td>    0.300</td> <td>    0.843</td>\n",
       "</tr>\n",
       "<tr>\n",
       "  <th>STL</th>   <td>   -0.0453</td> <td>    0.598</td> <td>   -0.076</td> <td> 0.940</td> <td>   -1.217</td> <td>    1.127</td>\n",
       "</tr>\n",
       "<tr>\n",
       "  <th>BLK</th>   <td>    0.1021</td> <td>    0.433</td> <td>    0.236</td> <td> 0.814</td> <td>   -0.746</td> <td>    0.950</td>\n",
       "</tr>\n",
       "<tr>\n",
       "  <th>PTS</th>   <td>    0.3996</td> <td>    0.070</td> <td>    5.710</td> <td> 0.000</td> <td>    0.262</td> <td>    0.537</td>\n",
       "</tr>\n",
       "<tr>\n",
       "  <th>W/L%</th>  <td>   26.8531</td> <td>    4.487</td> <td>    5.985</td> <td> 0.000</td> <td>   18.059</td> <td>   35.648</td>\n",
       "</tr>\n",
       "</table><br/><br/>Possibly complete quasi-separation: A fraction 0.94 of observations can be<br/>perfectly predicted. This might indicate that there is complete<br/>quasi-separation. In this case some parameters will not be identified."
      ],
      "text/plain": [
       "<class 'statsmodels.iolib.summary.Summary'>\n",
       "\"\"\"\n",
       "                           Logit Regression Results                           \n",
       "==============================================================================\n",
       "Dep. Variable:                    Yes   No. Observations:                14042\n",
       "Model:                          Logit   Df Residuals:                    14034\n",
       "Method:                           MLE   Df Model:                            7\n",
       "Date:                Fri, 24 Jun 2022   Pseudo R-squ.:                     inf\n",
       "Time:                        12:15:25   Log-Likelihood:                   -inf\n",
       "converged:                       True   LL-Null:                        0.0000\n",
       "Covariance Type:            nonrobust   LLR p-value:                     1.000\n",
       "==============================================================================\n",
       "                 coef    std err          z      P>|z|      [0.025      0.975]\n",
       "------------------------------------------------------------------------------\n",
       "const        -39.0863      5.857     -6.673      0.000     -50.566     -27.607\n",
       "FG%            2.9147      7.639      0.382      0.703     -12.058      17.888\n",
       "TRB            0.3606      0.144      2.505      0.012       0.079       0.643\n",
       "AST            0.5715      0.139      4.124      0.000       0.300       0.843\n",
       "STL           -0.0453      0.598     -0.076      0.940      -1.217       1.127\n",
       "BLK            0.1021      0.433      0.236      0.814      -0.746       0.950\n",
       "PTS            0.3996      0.070      5.710      0.000       0.262       0.537\n",
       "W/L%          26.8531      4.487      5.985      0.000      18.059      35.648\n",
       "==============================================================================\n",
       "\n",
       "Possibly complete quasi-separation: A fraction 0.94 of observations can be\n",
       "perfectly predicted. This might indicate that there is complete\n",
       "quasi-separation. In this case some parameters will not be identified.\n",
       "\"\"\""
      ]
     },
     "execution_count": 23,
     "metadata": {},
     "output_type": "execute_result"
    }
   ],
   "source": [
    "x = df.drop(columns= ['MVP'])\n",
    "X = sm.add_constant(x)\n",
    "lr=sm.Logit(y,X)\n",
    "lrfit = lr.fit()\n",
    "lrfit.summary()"
   ]
  },
  {
   "cell_type": "code",
   "execution_count": 24,
   "metadata": {},
   "outputs": [
    {
     "name": "stdout",
     "output_type": "stream",
     "text": [
      "Optimization terminated successfully.\n",
      "         Current function value: inf\n",
      "         Iterations 15\n"
     ]
    },
    {
     "data": {
      "text/html": [
       "<table class=\"simpletable\">\n",
       "<caption>Logit Regression Results</caption>\n",
       "<tr>\n",
       "  <th>Dep. Variable:</th>          <td>Yes</td>       <th>  No. Observations:  </th>  <td> 14042</td> \n",
       "</tr>\n",
       "<tr>\n",
       "  <th>Model:</th>                 <td>Logit</td>      <th>  Df Residuals:      </th>  <td> 14035</td> \n",
       "</tr>\n",
       "<tr>\n",
       "  <th>Method:</th>                 <td>MLE</td>       <th>  Df Model:          </th>  <td>     6</td> \n",
       "</tr>\n",
       "<tr>\n",
       "  <th>Date:</th>            <td>Fri, 24 Jun 2022</td> <th>  Pseudo R-squ.:     </th>  <td>   inf</td> \n",
       "</tr>\n",
       "<tr>\n",
       "  <th>Time:</th>                <td>12:38:52</td>     <th>  Log-Likelihood:    </th> <td>    -inf</td>\n",
       "</tr>\n",
       "<tr>\n",
       "  <th>converged:</th>             <td>True</td>       <th>  LL-Null:           </th> <td>  0.0000</td>\n",
       "</tr>\n",
       "<tr>\n",
       "  <th>Covariance Type:</th>     <td>nonrobust</td>    <th>  LLR p-value:       </th>  <td> 1.000</td> \n",
       "</tr>\n",
       "</table>\n",
       "<table class=\"simpletable\">\n",
       "<tr>\n",
       "    <td></td>       <th>coef</th>     <th>std err</th>      <th>z</th>      <th>P>|z|</th>  <th>[0.025</th>    <th>0.975]</th>  \n",
       "</tr>\n",
       "<tr>\n",
       "  <th>const</th> <td>  -39.1288</td> <td>    5.834</td> <td>   -6.707</td> <td> 0.000</td> <td>  -50.563</td> <td>  -27.695</td>\n",
       "</tr>\n",
       "<tr>\n",
       "  <th>FG%</th>   <td>    3.0090</td> <td>    7.541</td> <td>    0.399</td> <td> 0.690</td> <td>  -11.771</td> <td>   17.789</td>\n",
       "</tr>\n",
       "<tr>\n",
       "  <th>TRB</th>   <td>    0.3628</td> <td>    0.141</td> <td>    2.571</td> <td> 0.010</td> <td>    0.086</td> <td>    0.639</td>\n",
       "</tr>\n",
       "<tr>\n",
       "  <th>AST</th>   <td>    0.5691</td> <td>    0.135</td> <td>    4.220</td> <td> 0.000</td> <td>    0.305</td> <td>    0.833</td>\n",
       "</tr>\n",
       "<tr>\n",
       "  <th>BLK</th>   <td>    0.0997</td> <td>    0.431</td> <td>    0.231</td> <td> 0.817</td> <td>   -0.745</td> <td>    0.944</td>\n",
       "</tr>\n",
       "<tr>\n",
       "  <th>PTS</th>   <td>    0.3982</td> <td>    0.067</td> <td>    5.913</td> <td> 0.000</td> <td>    0.266</td> <td>    0.530</td>\n",
       "</tr>\n",
       "<tr>\n",
       "  <th>W/L%</th>  <td>   26.8024</td> <td>    4.432</td> <td>    6.047</td> <td> 0.000</td> <td>   18.116</td> <td>   35.489</td>\n",
       "</tr>\n",
       "</table><br/><br/>Possibly complete quasi-separation: A fraction 0.94 of observations can be<br/>perfectly predicted. This might indicate that there is complete<br/>quasi-separation. In this case some parameters will not be identified."
      ],
      "text/plain": [
       "<class 'statsmodels.iolib.summary.Summary'>\n",
       "\"\"\"\n",
       "                           Logit Regression Results                           \n",
       "==============================================================================\n",
       "Dep. Variable:                    Yes   No. Observations:                14042\n",
       "Model:                          Logit   Df Residuals:                    14035\n",
       "Method:                           MLE   Df Model:                            6\n",
       "Date:                Fri, 24 Jun 2022   Pseudo R-squ.:                     inf\n",
       "Time:                        12:38:52   Log-Likelihood:                   -inf\n",
       "converged:                       True   LL-Null:                        0.0000\n",
       "Covariance Type:            nonrobust   LLR p-value:                     1.000\n",
       "==============================================================================\n",
       "                 coef    std err          z      P>|z|      [0.025      0.975]\n",
       "------------------------------------------------------------------------------\n",
       "const        -39.1288      5.834     -6.707      0.000     -50.563     -27.695\n",
       "FG%            3.0090      7.541      0.399      0.690     -11.771      17.789\n",
       "TRB            0.3628      0.141      2.571      0.010       0.086       0.639\n",
       "AST            0.5691      0.135      4.220      0.000       0.305       0.833\n",
       "BLK            0.0997      0.431      0.231      0.817      -0.745       0.944\n",
       "PTS            0.3982      0.067      5.913      0.000       0.266       0.530\n",
       "W/L%          26.8024      4.432      6.047      0.000      18.116      35.489\n",
       "==============================================================================\n",
       "\n",
       "Possibly complete quasi-separation: A fraction 0.94 of observations can be\n",
       "perfectly predicted. This might indicate that there is complete\n",
       "quasi-separation. In this case some parameters will not be identified.\n",
       "\"\"\""
      ]
     },
     "execution_count": 24,
     "metadata": {},
     "output_type": "execute_result"
    }
   ],
   "source": [
    "X = X.drop(columns='STL')\n",
    "lr=sm.Logit(y,X)\n",
    "lrfit = lr.fit()\n",
    "lrfit.summary()"
   ]
  },
  {
   "cell_type": "code",
   "execution_count": 25,
   "metadata": {},
   "outputs": [
    {
     "name": "stdout",
     "output_type": "stream",
     "text": [
      "Optimization terminated successfully.\n",
      "         Current function value: inf\n",
      "         Iterations 15\n"
     ]
    },
    {
     "data": {
      "text/html": [
       "<table class=\"simpletable\">\n",
       "<caption>Logit Regression Results</caption>\n",
       "<tr>\n",
       "  <th>Dep. Variable:</th>          <td>Yes</td>       <th>  No. Observations:  </th>  <td> 14042</td> \n",
       "</tr>\n",
       "<tr>\n",
       "  <th>Model:</th>                 <td>Logit</td>      <th>  Df Residuals:      </th>  <td> 14036</td> \n",
       "</tr>\n",
       "<tr>\n",
       "  <th>Method:</th>                 <td>MLE</td>       <th>  Df Model:          </th>  <td>     5</td> \n",
       "</tr>\n",
       "<tr>\n",
       "  <th>Date:</th>            <td>Fri, 24 Jun 2022</td> <th>  Pseudo R-squ.:     </th>  <td>   inf</td> \n",
       "</tr>\n",
       "<tr>\n",
       "  <th>Time:</th>                <td>12:38:57</td>     <th>  Log-Likelihood:    </th> <td>    -inf</td>\n",
       "</tr>\n",
       "<tr>\n",
       "  <th>converged:</th>             <td>True</td>       <th>  LL-Null:           </th> <td>  0.0000</td>\n",
       "</tr>\n",
       "<tr>\n",
       "  <th>Covariance Type:</th>     <td>nonrobust</td>    <th>  LLR p-value:       </th>  <td> 1.000</td> \n",
       "</tr>\n",
       "</table>\n",
       "<table class=\"simpletable\">\n",
       "<tr>\n",
       "    <td></td>       <th>coef</th>     <th>std err</th>      <th>z</th>      <th>P>|z|</th>  <th>[0.025</th>    <th>0.975]</th>  \n",
       "</tr>\n",
       "<tr>\n",
       "  <th>const</th> <td>  -39.1921</td> <td>    5.816</td> <td>   -6.738</td> <td> 0.000</td> <td>  -50.592</td> <td>  -27.792</td>\n",
       "</tr>\n",
       "<tr>\n",
       "  <th>FG%</th>   <td>    3.2326</td> <td>    7.470</td> <td>    0.433</td> <td> 0.665</td> <td>  -11.408</td> <td>   17.874</td>\n",
       "</tr>\n",
       "<tr>\n",
       "  <th>TRB</th>   <td>    0.3795</td> <td>    0.121</td> <td>    3.128</td> <td> 0.002</td> <td>    0.142</td> <td>    0.617</td>\n",
       "</tr>\n",
       "<tr>\n",
       "  <th>AST</th>   <td>    0.5580</td> <td>    0.125</td> <td>    4.450</td> <td> 0.000</td> <td>    0.312</td> <td>    0.804</td>\n",
       "</tr>\n",
       "<tr>\n",
       "  <th>PTS</th>   <td>    0.3984</td> <td>    0.067</td> <td>    5.926</td> <td> 0.000</td> <td>    0.267</td> <td>    0.530</td>\n",
       "</tr>\n",
       "<tr>\n",
       "  <th>W/L%</th>  <td>   26.7816</td> <td>    4.425</td> <td>    6.052</td> <td> 0.000</td> <td>   18.109</td> <td>   35.455</td>\n",
       "</tr>\n",
       "</table><br/><br/>Possibly complete quasi-separation: A fraction 0.94 of observations can be<br/>perfectly predicted. This might indicate that there is complete<br/>quasi-separation. In this case some parameters will not be identified."
      ],
      "text/plain": [
       "<class 'statsmodels.iolib.summary.Summary'>\n",
       "\"\"\"\n",
       "                           Logit Regression Results                           \n",
       "==============================================================================\n",
       "Dep. Variable:                    Yes   No. Observations:                14042\n",
       "Model:                          Logit   Df Residuals:                    14036\n",
       "Method:                           MLE   Df Model:                            5\n",
       "Date:                Fri, 24 Jun 2022   Pseudo R-squ.:                     inf\n",
       "Time:                        12:38:57   Log-Likelihood:                   -inf\n",
       "converged:                       True   LL-Null:                        0.0000\n",
       "Covariance Type:            nonrobust   LLR p-value:                     1.000\n",
       "==============================================================================\n",
       "                 coef    std err          z      P>|z|      [0.025      0.975]\n",
       "------------------------------------------------------------------------------\n",
       "const        -39.1921      5.816     -6.738      0.000     -50.592     -27.792\n",
       "FG%            3.2326      7.470      0.433      0.665     -11.408      17.874\n",
       "TRB            0.3795      0.121      3.128      0.002       0.142       0.617\n",
       "AST            0.5580      0.125      4.450      0.000       0.312       0.804\n",
       "PTS            0.3984      0.067      5.926      0.000       0.267       0.530\n",
       "W/L%          26.7816      4.425      6.052      0.000      18.109      35.455\n",
       "==============================================================================\n",
       "\n",
       "Possibly complete quasi-separation: A fraction 0.94 of observations can be\n",
       "perfectly predicted. This might indicate that there is complete\n",
       "quasi-separation. In this case some parameters will not be identified.\n",
       "\"\"\""
      ]
     },
     "execution_count": 25,
     "metadata": {},
     "output_type": "execute_result"
    }
   ],
   "source": [
    "X = X.drop(columns='BLK')\n",
    "lr=sm.Logit(y,X)\n",
    "lrfit = lr.fit()\n",
    "lrfit.summary()"
   ]
  },
  {
   "cell_type": "code",
   "execution_count": 26,
   "metadata": {},
   "outputs": [
    {
     "name": "stdout",
     "output_type": "stream",
     "text": [
      "Optimization terminated successfully.\n",
      "         Current function value: inf\n",
      "         Iterations 15\n"
     ]
    },
    {
     "data": {
      "text/html": [
       "<table class=\"simpletable\">\n",
       "<caption>Logit Regression Results</caption>\n",
       "<tr>\n",
       "  <th>Dep. Variable:</th>          <td>Yes</td>       <th>  No. Observations:  </th>  <td> 14042</td> \n",
       "</tr>\n",
       "<tr>\n",
       "  <th>Model:</th>                 <td>Logit</td>      <th>  Df Residuals:      </th>  <td> 14037</td> \n",
       "</tr>\n",
       "<tr>\n",
       "  <th>Method:</th>                 <td>MLE</td>       <th>  Df Model:          </th>  <td>     4</td> \n",
       "</tr>\n",
       "<tr>\n",
       "  <th>Date:</th>            <td>Fri, 24 Jun 2022</td> <th>  Pseudo R-squ.:     </th>  <td>   inf</td> \n",
       "</tr>\n",
       "<tr>\n",
       "  <th>Time:</th>                <td>12:39:01</td>     <th>  Log-Likelihood:    </th> <td>    -inf</td>\n",
       "</tr>\n",
       "<tr>\n",
       "  <th>converged:</th>             <td>True</td>       <th>  LL-Null:           </th> <td>  0.0000</td>\n",
       "</tr>\n",
       "<tr>\n",
       "  <th>Covariance Type:</th>     <td>nonrobust</td>    <th>  LLR p-value:       </th>  <td> 1.000</td> \n",
       "</tr>\n",
       "</table>\n",
       "<table class=\"simpletable\">\n",
       "<tr>\n",
       "    <td></td>       <th>coef</th>     <th>std err</th>      <th>z</th>      <th>P>|z|</th>  <th>[0.025</th>    <th>0.975]</th>  \n",
       "</tr>\n",
       "<tr>\n",
       "  <th>const</th> <td>  -37.9871</td> <td>    5.017</td> <td>   -7.572</td> <td> 0.000</td> <td>  -47.820</td> <td>  -28.154</td>\n",
       "</tr>\n",
       "<tr>\n",
       "  <th>TRB</th>   <td>    0.4014</td> <td>    0.110</td> <td>    3.661</td> <td> 0.000</td> <td>    0.187</td> <td>    0.616</td>\n",
       "</tr>\n",
       "<tr>\n",
       "  <th>AST</th>   <td>    0.5471</td> <td>    0.123</td> <td>    4.465</td> <td> 0.000</td> <td>    0.307</td> <td>    0.787</td>\n",
       "</tr>\n",
       "<tr>\n",
       "  <th>PTS</th>   <td>    0.4008</td> <td>    0.067</td> <td>    5.952</td> <td> 0.000</td> <td>    0.269</td> <td>    0.533</td>\n",
       "</tr>\n",
       "<tr>\n",
       "  <th>W/L%</th>  <td>   27.1029</td> <td>    4.367</td> <td>    6.206</td> <td> 0.000</td> <td>   18.543</td> <td>   35.663</td>\n",
       "</tr>\n",
       "</table><br/><br/>Possibly complete quasi-separation: A fraction 0.94 of observations can be<br/>perfectly predicted. This might indicate that there is complete<br/>quasi-separation. In this case some parameters will not be identified."
      ],
      "text/plain": [
       "<class 'statsmodels.iolib.summary.Summary'>\n",
       "\"\"\"\n",
       "                           Logit Regression Results                           \n",
       "==============================================================================\n",
       "Dep. Variable:                    Yes   No. Observations:                14042\n",
       "Model:                          Logit   Df Residuals:                    14037\n",
       "Method:                           MLE   Df Model:                            4\n",
       "Date:                Fri, 24 Jun 2022   Pseudo R-squ.:                     inf\n",
       "Time:                        12:39:01   Log-Likelihood:                   -inf\n",
       "converged:                       True   LL-Null:                        0.0000\n",
       "Covariance Type:            nonrobust   LLR p-value:                     1.000\n",
       "==============================================================================\n",
       "                 coef    std err          z      P>|z|      [0.025      0.975]\n",
       "------------------------------------------------------------------------------\n",
       "const        -37.9871      5.017     -7.572      0.000     -47.820     -28.154\n",
       "TRB            0.4014      0.110      3.661      0.000       0.187       0.616\n",
       "AST            0.5471      0.123      4.465      0.000       0.307       0.787\n",
       "PTS            0.4008      0.067      5.952      0.000       0.269       0.533\n",
       "W/L%          27.1029      4.367      6.206      0.000      18.543      35.663\n",
       "==============================================================================\n",
       "\n",
       "Possibly complete quasi-separation: A fraction 0.94 of observations can be\n",
       "perfectly predicted. This might indicate that there is complete\n",
       "quasi-separation. In this case some parameters will not be identified.\n",
       "\"\"\""
      ]
     },
     "execution_count": 26,
     "metadata": {},
     "output_type": "execute_result"
    }
   ],
   "source": [
    "X = X.drop(columns='FG%')\n",
    "lr=sm.Logit(y,X)\n",
    "lrfit = lr.fit()\n",
    "lrfit.summary()"
   ]
  },
  {
   "cell_type": "code",
   "execution_count": 27,
   "metadata": {},
   "outputs": [
    {
     "name": "stdout",
     "output_type": "stream",
     "text": [
      "[[4203    1]\n",
      " [   9    0]]\n",
      "Accuracy score:  0.9976263944932352\n"
     ]
    },
    {
     "data": {
      "text/plain": [
       "<matplotlib.axes._subplots.AxesSubplot at 0x1cf74790390>"
      ]
     },
     "execution_count": 27,
     "metadata": {},
     "output_type": "execute_result"
    },
    {
     "data": {
      "image/png": "[encoded data removed]",
      "text/plain": [
       "<Figure size 720x720 with 2 Axes>"
      ]
     },
     "metadata": {},
     "output_type": "display_data"
    }
   ],
   "source": [
    "x_train, x_test, y_train, y_test = train_test_split(X, y, test_size=.30, random_state=0)\n",
    "logtrain = LogisticRegression(random_state=0)\n",
    "logtrain.fit(x_train, y_train)\n",
    "y_pred = logtrain.predict(x_test)\n",
    "cm = confusion_matrix(y_test, y_pred)\n",
    "print(cm)\n",
    "print('Accuracy score: ', accuracy_score(y_test, y_pred))\n",
    "\n",
    "\n",
    "sns.heatmap(cm, annot=True)"
   ]
  },
  {
   "cell_type": "code",
   "execution_count": 28,
   "metadata": {
    "scrolled": true
   },
   "outputs": [
    {
     "name": "stdout",
     "output_type": "stream",
     "text": [
      "              precision    recall  f1-score   support\n",
      "\n",
      "           0       1.00      1.00      1.00      4204\n",
      "           1       0.00      0.00      0.00         9\n",
      "\n",
      "    accuracy                           1.00      4213\n",
      "   macro avg       0.50      0.50      0.50      4213\n",
      "weighted avg       1.00      1.00      1.00      4213\n",
      "\n"
     ]
    }
   ],
   "source": [
    "print(classification_report(y_test, y_pred))"
   ]
  },
  {
   "cell_type": "code",
   "execution_count": 32,
   "metadata": {},
   "outputs": [
    {
     "data": {
      "text/plain": [
       "0.9957447933185326"
      ]
     },
     "execution_count": 32,
     "metadata": {},
     "output_type": "execute_result"
    }
   ],
   "source": [
    "lrprob = logtrain.predict_proba(x_test)\n",
    "lrprob = lrprob[:,1]\n",
    "roc_auc = roc_auc_score(y_test, lrprob)\n",
    "roc_auc\n",
    "\n"
   ]
  },
  {
   "cell_type": "code",
   "execution_count": 33,
   "metadata": {},
   "outputs": [],
   "source": [
    "false_positive_rate, true_positive_rate, threshold = roc_curve(y_test, lrprob)"
   ]
  },
  {
   "cell_type": "code",
   "execution_count": 34,
   "metadata": {},
   "outputs": [
    {
     "data": {
      "image/png": "[encoded data removed]",
      "text/plain": [
       "<Figure size 720x720 with 1 Axes>"
      ]
     },
     "metadata": {},
     "output_type": "display_data"
    }
   ],
   "source": [
    "plt.title('ROC Curve')\n",
    "plt.plot(false_positive_rate, true_positive_rate, 'blue',\n",
    "         label = 'AUC = %0.2f' % roc_auc)\n",
    "plt.legend(loc = 'lower right')\n",
    "plt.plot([0, 1], [0, 1],'r--')\n",
    "plt.xlim([0, 1])\n",
    "plt.ylim([0, 1])\n",
    "plt.ylabel('True Positive Rate')\n",
    "plt.xlabel('False Positive Rate')\n",
    "plt.show()\n"
   ]
  }
 ],
 "metadata": {
  "kernelspec": {
   "display_name": "Python 3",
   "language": "python",
   "name": "python3"
  },
  "language_info": {
   "codemirror_mode": {
    "name": "ipython",
    "version": 3
   },
   "file_extension": ".py",
   "mimetype": "text/x-python",
   "name": "python",
   "nbconvert_exporter": "python",
   "pygments_lexer": "ipython3",
   "version": "3.7.3"
  }
 },
 "nbformat": 4,
 "nbformat_minor": 2
}
